{
 "cells": [
  {
   "cell_type": "code",
   "execution_count": 2,
   "metadata": {},
   "outputs": [
    {
     "name": "stdout",
     "output_type": "stream",
     "text": [
      "<class 'str'>\n"
     ]
    }
   ],
   "source": [
    "print(type(\"hello\"))"
   ]
  },
  {
   "cell_type": "code",
   "execution_count": 3,
   "metadata": {},
   "outputs": [
    {
     "name": "stdout",
     "output_type": "stream",
     "text": [
      "<class 'function'>\n"
     ]
    }
   ],
   "source": [
    "def test():\n",
    "    print(\"I'm an function\")\n",
    "\n",
    "\n",
    "print(type(test))"
   ]
  },
  {
   "cell_type": "markdown",
   "metadata": {},
   "source": [
    "- Human -> Class\n",
    "\n",
    "- Daniel, Kishore, Sriram   -> Objects"
   ]
  },
  {
   "cell_type": "markdown",
   "metadata": {},
   "source": [
    "### Major concepts in OOPs\n",
    "\n",
    "- Class\n",
    "- Object\n",
    "- Method\n",
    "- Inheritance\n",
    "- Encapsulation\n",
    "- Polymorphism\n",
    "- Data Abstraction"
   ]
  },
  {
   "cell_type": "markdown",
   "metadata": {},
   "source": [
    "### Class"
   ]
  },
  {
   "cell_type": "code",
   "execution_count": 4,
   "metadata": {},
   "outputs": [],
   "source": [
    "class car:\n",
    "    pass"
   ]
  },
  {
   "cell_type": "code",
   "execution_count": 5,
   "metadata": {},
   "outputs": [
    {
     "name": "stdout",
     "output_type": "stream",
     "text": [
      "<class 'type'>\n"
     ]
    }
   ],
   "source": [
    "# type\n",
    "print(type(car))"
   ]
  },
  {
   "cell_type": "code",
   "execution_count": 6,
   "metadata": {},
   "outputs": [
    {
     "name": "stdout",
     "output_type": "stream",
     "text": [
      "car\n"
     ]
    }
   ],
   "source": [
    "# class name\n",
    "print(car.__name__)"
   ]
  },
  {
   "cell_type": "code",
   "execution_count": 7,
   "metadata": {},
   "outputs": [],
   "source": [
    "class car:\n",
    "    \"\"\"This is my doc string, this explains brief about the class\"\"\""
   ]
  },
  {
   "cell_type": "code",
   "execution_count": 8,
   "metadata": {},
   "outputs": [
    {
     "name": "stdout",
     "output_type": "stream",
     "text": [
      "This is my doc string, this explains brief about the class\n"
     ]
    }
   ],
   "source": [
    "print(car.__doc__)"
   ]
  },
  {
   "cell_type": "markdown",
   "metadata": {},
   "source": [
    "### Object"
   ]
  },
  {
   "cell_type": "code",
   "execution_count": 9,
   "metadata": {},
   "outputs": [],
   "source": [
    "a = car()"
   ]
  },
  {
   "cell_type": "code",
   "execution_count": 10,
   "metadata": {},
   "outputs": [
    {
     "name": "stdout",
     "output_type": "stream",
     "text": [
      "<class '__main__.car'>\n",
      "<__main__.car object at 0x000002CB67F7A0D0>\n",
      "True\n"
     ]
    }
   ],
   "source": [
    "print(type(a))\n",
    "print(a)\n",
    "print(isinstance(a, car))"
   ]
  },
  {
   "cell_type": "code",
   "execution_count": 11,
   "metadata": {},
   "outputs": [],
   "source": [
    "# Attributes\n",
    "\n",
    "class Car:\n",
    "    brand = 'Toyota'    # class attributes\n",
    "    name = 'Innova'\n",
    "    version = '2.5V'"
   ]
  },
  {
   "cell_type": "code",
   "execution_count": 13,
   "metadata": {},
   "outputs": [
    {
     "name": "stdout",
     "output_type": "stream",
     "text": [
      "Innova\n",
      "2.5V\n"
     ]
    }
   ],
   "source": [
    "print(getattr(Car, 'name'))\n",
    "print(getattr(Car, 'version'))"
   ]
  },
  {
   "cell_type": "code",
   "execution_count": 14,
   "metadata": {},
   "outputs": [
    {
     "data": {
      "text/plain": [
       "'Toyota'"
      ]
     },
     "execution_count": 14,
     "metadata": {},
     "output_type": "execute_result"
    }
   ],
   "source": [
    "# another way to retrieve the attributes\n",
    "Car.brand"
   ]
  },
  {
   "cell_type": "code",
   "execution_count": 15,
   "metadata": {},
   "outputs": [
    {
     "name": "stdout",
     "output_type": "stream",
     "text": [
      "100\n"
     ]
    },
    {
     "ename": "TypeError",
     "evalue": "ExampleofMethod() takes 0 positional arguments but 1 was given",
     "output_type": "error",
     "traceback": [
      "\u001b[1;31m---------------------------------------------------------------------------\u001b[0m",
      "\u001b[1;31mTypeError\u001b[0m                                 Traceback (most recent call last)",
      "Cell \u001b[1;32mIn[15], line 18\u001b[0m\n\u001b[0;32m     14\u001b[0m \u001b[38;5;28mprint\u001b[39m(obj\u001b[38;5;241m.\u001b[39mnum)\n\u001b[0;32m     16\u001b[0m \u001b[38;5;66;03m# calling method\u001b[39;00m\n\u001b[1;32m---> 18\u001b[0m \u001b[43mobj\u001b[49m\u001b[38;5;241;43m.\u001b[39;49m\u001b[43mExampleofMethod\u001b[49m\u001b[43m(\u001b[49m\u001b[43m)\u001b[49m\n\u001b[0;32m     20\u001b[0m \u001b[38;5;66;03m# prints docstring\u001b[39;00m\n\u001b[0;32m     21\u001b[0m \u001b[38;5;28mprint\u001b[39m(Human\u001b[38;5;241m.\u001b[39m\u001b[38;5;18m__doc__\u001b[39m)\n",
      "\u001b[1;31mTypeError\u001b[0m: ExampleofMethod() takes 0 positional arguments but 1 was given"
     ]
    }
   ],
   "source": [
    "class Human:\n",
    "\n",
    "    \"\"\"This class demonstrates the creation of objects\"\"\"\n",
    "\n",
    "    num = 100   # class attribute\n",
    "\n",
    "    def ExampleofMethod():\n",
    "        print(\"I'm just a function\")    # instance method\n",
    "\n",
    "\n",
    "# creating object of human class\n",
    "\n",
    "obj = Human()\n",
    "print(obj.num)\n",
    "\n",
    "# calling method\n",
    "\n",
    "obj.ExampleofMethod()\n",
    "\n",
    "# prints docstring\n",
    "print(Human.__doc__)\n"
   ]
  },
  {
   "cell_type": "code",
   "execution_count": 16,
   "metadata": {},
   "outputs": [
    {
     "name": "stdout",
     "output_type": "stream",
     "text": [
      "100\n",
      "I'm just a function\n",
      "This class demonstrates the creation of objects\n"
     ]
    }
   ],
   "source": [
    "# passing self in the class methods\n",
    "\n",
    "class Human:\n",
    "\n",
    "    \"\"\"This class demonstrates the creation of objects\"\"\"\n",
    "\n",
    "    num = 100   # class attribute\n",
    "\n",
    "    def ExampleofMethod(self):\n",
    "        print(\"I'm just a function\")    # instance method\n",
    "\n",
    "\n",
    "# creating object of human class\n",
    "\n",
    "obj = Human()\n",
    "print(obj.num)\n",
    "\n",
    "# calling method\n",
    "\n",
    "obj.ExampleofMethod()\n",
    "\n",
    "# prints docstring\n",
    "print(Human.__doc__)"
   ]
  },
  {
   "cell_type": "markdown",
   "metadata": {},
   "source": [
    "### init & self()"
   ]
  },
  {
   "cell_type": "code",
   "execution_count": 18,
   "metadata": {},
   "outputs": [
    {
     "name": "stdout",
     "output_type": "stream",
     "text": [
      "Water and Air\n",
      "Height of Ram is 6\n",
      "Weight of Ram is 55\n",
      "Ram is eating Pizza\n",
      "Height of Daniel is 5.8\n",
      "Weight of Daniel is 70\n",
      "Daniel is eating Pizza\n"
     ]
    }
   ],
   "source": [
    "class Human():\n",
    "\n",
    "    life = \"Water and Air\"\n",
    "\n",
    "    # instance attributes\n",
    "    def __init__(self, name, height, weight):\n",
    "        self.name = name\n",
    "        self.height = height\n",
    "        self.weight = weight\n",
    "\n",
    "\n",
    "    # instance method\n",
    "    def eating(self, food):\n",
    "        return \"{} is eating {}\".format(self.name, food)\n",
    "    \n",
    "\n",
    "# creating object of class human\n",
    "\n",
    "ram = Human(\"Ram\", 6, 55)\n",
    "daniel = Human(\"Daniel\", 5.8, 70)\n",
    "\n",
    "print(Human.life)\n",
    "\n",
    "print(\"Height of {} is {}\".format(ram.name, ram.height))\n",
    "print(\"Weight of {} is {}\".format(ram.name, ram.weight))\n",
    "print(ram.eating('Pizza'))\n",
    "\n",
    "print(\"Height of {} is {}\".format(daniel.name, daniel.height))\n",
    "print(\"Weight of {} is {}\".format(daniel.name, daniel.weight))\n",
    "print(daniel.eating('Pizza'))"
   ]
  },
  {
   "cell_type": "code",
   "execution_count": 19,
   "metadata": {},
   "outputs": [],
   "source": [
    "class Basket:\n",
    "\n",
    "    def __init__(self):\n",
    "        self.basket = []\n",
    "\n",
    "\n",
    "    def fill(self, fruit):\n",
    "        self.basket.append(fruit)\n",
    "\n",
    "\n",
    "    def delete(self, fruit):\n",
    "        if fruit in self.basket:\n",
    "            self.basket.remove(fruit)\n",
    "\n",
    "\n",
    "    def show(self):\n",
    "        for fruit in self.basket:\n",
    "            print(fruit)"
   ]
  },
  {
   "cell_type": "code",
   "execution_count": 20,
   "metadata": {},
   "outputs": [
    {
     "name": "stdout",
     "output_type": "stream",
     "text": [
      "Mango\n",
      "Grapes\n",
      "Papaya\n",
      "\n",
      "Grapes\n",
      "Papaya\n"
     ]
    }
   ],
   "source": [
    "obj = Basket()\n",
    "\n",
    "obj.fill(\"Mango\")\n",
    "obj.fill(\"Grapes\")\n",
    "obj.fill(\"Papaya\")\n",
    "obj.show()\n",
    "\n",
    "print()\n",
    "\n",
    "obj.delete(\"Mango\")\n",
    "obj.show()"
   ]
  },
  {
   "cell_type": "markdown",
   "metadata": {},
   "source": [
    "### Inheritance"
   ]
  },
  {
   "cell_type": "code",
   "execution_count": 21,
   "metadata": {},
   "outputs": [],
   "source": [
    "class Vehicle:\n",
    "\n",
    "    def __init__(self, mileage, price):\n",
    "        self.mileage = mileage\n",
    "        self.price = price\n",
    "\n",
    "    \n",
    "    def DetailsofVehicle(self):\n",
    "        print(\"Mileage of the vehicle is\", self.mileage)\n",
    "        print(\"Price of the vehicle is\", self.price)\n",
    "        print()\n",
    "\n",
    "        print(\"These details are for vehicle\".center(50, \"*\"))"
   ]
  },
  {
   "cell_type": "code",
   "execution_count": 22,
   "metadata": {},
   "outputs": [],
   "source": [
    "v = Vehicle(400, 10000)"
   ]
  },
  {
   "cell_type": "code",
   "execution_count": 23,
   "metadata": {},
   "outputs": [
    {
     "name": "stdout",
     "output_type": "stream",
     "text": [
      "Mileage of the vehicle is 400\n",
      "Price of the vehicle is 10000\n",
      "\n",
      "**********These details are for vehicle***********\n"
     ]
    }
   ],
   "source": [
    "v.DetailsofVehicle()"
   ]
  },
  {
   "cell_type": "code",
   "execution_count": 24,
   "metadata": {},
   "outputs": [],
   "source": [
    "# Derived class\n",
    "\n",
    "class Car(Vehicle):\n",
    "\n",
    "    def show_car_details(self):\n",
    "        print(\"I'm an extra-ordinary car\".center(50, '-'))\n",
    "        print(\"I'm a method of Child class(car)\")"
   ]
  },
  {
   "cell_type": "code",
   "execution_count": 25,
   "metadata": {},
   "outputs": [
    {
     "ename": "TypeError",
     "evalue": "__init__() missing 2 required positional arguments: 'mileage' and 'price'",
     "output_type": "error",
     "traceback": [
      "\u001b[1;31m---------------------------------------------------------------------------\u001b[0m",
      "\u001b[1;31mTypeError\u001b[0m                                 Traceback (most recent call last)",
      "Cell \u001b[1;32mIn[25], line 1\u001b[0m\n\u001b[1;32m----> 1\u001b[0m c \u001b[38;5;241m=\u001b[39m \u001b[43mCar\u001b[49m\u001b[43m(\u001b[49m\u001b[43m)\u001b[49m\n",
      "\u001b[1;31mTypeError\u001b[0m: __init__() missing 2 required positional arguments: 'mileage' and 'price'"
     ]
    }
   ],
   "source": [
    "c = Car()"
   ]
  },
  {
   "cell_type": "code",
   "execution_count": 26,
   "metadata": {},
   "outputs": [],
   "source": [
    "c = Car(200, 10000)"
   ]
  },
  {
   "cell_type": "code",
   "execution_count": 27,
   "metadata": {},
   "outputs": [
    {
     "name": "stdout",
     "output_type": "stream",
     "text": [
      "Mileage of the vehicle is 200\n",
      "Price of the vehicle is 10000\n",
      "\n",
      "**********These details are for vehicle***********\n"
     ]
    }
   ],
   "source": [
    "# Base class method\n",
    "c.DetailsofVehicle()"
   ]
  },
  {
   "cell_type": "code",
   "execution_count": 28,
   "metadata": {},
   "outputs": [
    {
     "name": "stdout",
     "output_type": "stream",
     "text": [
      "------------I'm an extra-ordinary car-------------\n",
      "I'm a method of Child class(car)\n"
     ]
    }
   ],
   "source": [
    "# Derived class method\n",
    "c.show_car_details()"
   ]
  },
  {
   "cell_type": "code",
   "execution_count": 29,
   "metadata": {},
   "outputs": [
    {
     "data": {
      "text/plain": [
       "(200, 10000)"
      ]
     },
     "execution_count": 29,
     "metadata": {},
     "output_type": "execute_result"
    }
   ],
   "source": [
    "c.mileage, c.price"
   ]
  },
  {
   "cell_type": "markdown",
   "metadata": {},
   "source": [
    "### Super()"
   ]
  },
  {
   "cell_type": "code",
   "execution_count": 30,
   "metadata": {},
   "outputs": [],
   "source": [
    "class Car(Vehicle):\n",
    "\n",
    "    def __init__(self, mileage, price, wheels, hp):\n",
    "        super().__init__(mileage, price)\n",
    "        self.wheels = wheels\n",
    "        self.hp = hp\n",
    "\n",
    "    \n",
    "    def show_car_details(self):\n",
    "        print(\"I'm an extra-ordinary car\".center(50, '-'))\n",
    "        print(\"I'm a method of Child class(car)\")\n",
    "        print(\"I'm just a car\")"
   ]
  },
  {
   "cell_type": "code",
   "execution_count": 32,
   "metadata": {},
   "outputs": [],
   "source": [
    "c1 = Car(500, 20000, 4, 1000)"
   ]
  },
  {
   "cell_type": "code",
   "execution_count": 33,
   "metadata": {},
   "outputs": [
    {
     "name": "stdout",
     "output_type": "stream",
     "text": [
      "Mileage of the vehicle is 500\n",
      "Price of the vehicle is 20000\n",
      "\n",
      "**********These details are for vehicle***********\n"
     ]
    }
   ],
   "source": [
    "c1.DetailsofVehicle()"
   ]
  },
  {
   "cell_type": "code",
   "execution_count": 35,
   "metadata": {},
   "outputs": [
    {
     "name": "stdout",
     "output_type": "stream",
     "text": [
      "Cost of car 20000\n",
      "Total wheels 4\n",
      "\n",
      "------------I'm an extra-ordinary car-------------\n",
      "I'm a method of Child class(car)\n",
      "I'm just a car\n",
      "None\n"
     ]
    }
   ],
   "source": [
    "print(\"Cost of car\", c1.price)\n",
    "print(\"Total wheels\", c1.wheels)\n",
    "print()\n",
    "print(c1.show_car_details())"
   ]
  },
  {
   "cell_type": "code",
   "execution_count": 36,
   "metadata": {},
   "outputs": [
    {
     "name": "stdout",
     "output_type": "stream",
     "text": [
      "------------I'm an extra-ordinary car-------------\n",
      "I'm a method of Child class(car)\n",
      "I'm just a car\n"
     ]
    }
   ],
   "source": [
    "c1.show_car_details()"
   ]
  },
  {
   "cell_type": "code",
   "execution_count": null,
   "metadata": {},
   "outputs": [],
   "source": []
  }
 ],
 "metadata": {
  "kernelspec": {
   "display_name": "oops",
   "language": "python",
   "name": "python3"
  },
  "language_info": {
   "codemirror_mode": {
    "name": "ipython",
    "version": 3
   },
   "file_extension": ".py",
   "mimetype": "text/x-python",
   "name": "python",
   "nbconvert_exporter": "python",
   "pygments_lexer": "ipython3",
   "version": "3.9.11"
  }
 },
 "nbformat": 4,
 "nbformat_minor": 2
}
