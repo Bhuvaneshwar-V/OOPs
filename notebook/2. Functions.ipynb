{
 "cells": [
  {
   "cell_type": "code",
   "execution_count": 1,
   "id": "c11f9103",
   "metadata": {},
   "outputs": [],
   "source": [
    "# defining the function\n",
    "def greeting():\n",
    "    print(\"Hello, i'm from function\")"
   ]
  },
  {
   "cell_type": "code",
   "execution_count": 2,
   "id": "11c6d1d9",
   "metadata": {},
   "outputs": [
    {
     "name": "stdout",
     "output_type": "stream",
     "text": [
      "Hello, i'm from function\n"
     ]
    }
   ],
   "source": [
    "# defining the function\n",
    "def greeting():\n",
    "    print(\"Hello, i'm from function\")\n",
    "    \n",
    "# calling the function\n",
    "greeting()"
   ]
  },
  {
   "cell_type": "code",
   "execution_count": 3,
   "id": "db14f404",
   "metadata": {},
   "outputs": [
    {
     "name": "stdout",
     "output_type": "stream",
     "text": [
      "Hello, i'm from function\n",
      "Happy learning\n"
     ]
    }
   ],
   "source": [
    "# multiple prints in the function\n",
    "def greeting():\n",
    "    print(\"Hello, i'm from function\")\n",
    "    print('Happy learning')\n",
    "    \n",
    "\n",
    "greeting()"
   ]
  },
  {
   "cell_type": "code",
   "execution_count": 4,
   "id": "58406681",
   "metadata": {},
   "outputs": [
    {
     "name": "stdout",
     "output_type": "stream",
     "text": [
      "Hello, i'm from function\n",
      "Happy learning\n",
      "\n",
      "I'm calling the second time\n",
      "\n",
      "Hello, i'm from function\n",
      "Happy learning\n"
     ]
    }
   ],
   "source": [
    "# multiple time calling the function\n",
    "\n",
    "def greeting():\n",
    "    print(\"Hello, i'm from function\")\n",
    "    print('Happy learning')\n",
    "    \n",
    "\n",
    "greeting()\n",
    "print('')\n",
    "print(\"I'm calling the second time\")\n",
    "print('')\n",
    "greeting()"
   ]
  },
  {
   "cell_type": "code",
   "execution_count": 5,
   "id": "9c9304e9",
   "metadata": {},
   "outputs": [
    {
     "ename": "NameError",
     "evalue": "name 'test' is not defined",
     "output_type": "error",
     "traceback": [
      "\u001b[1;31m---------------------------------------------------------------------------\u001b[0m",
      "\u001b[1;31mNameError\u001b[0m                                 Traceback (most recent call last)",
      "Cell \u001b[1;32mIn[5], line 2\u001b[0m\n\u001b[0;32m      1\u001b[0m \u001b[38;5;66;03m#function should be defined first, before calling the function\u001b[39;00m\n\u001b[1;32m----> 2\u001b[0m test()\n\u001b[0;32m      4\u001b[0m \u001b[38;5;28;01mdef\u001b[39;00m \u001b[38;5;21mtest\u001b[39m():\n\u001b[0;32m      5\u001b[0m     \u001b[38;5;28mprint\u001b[39m(\u001b[38;5;124m\"\u001b[39m\u001b[38;5;124mHello, i\u001b[39m\u001b[38;5;124m'\u001b[39m\u001b[38;5;124mm from test\u001b[39m\u001b[38;5;124m\"\u001b[39m)\n",
      "\u001b[1;31mNameError\u001b[0m: name 'test' is not defined"
     ]
    }
   ],
   "source": [
    "#function should be defined first, before calling the function\n",
    "test()\n",
    "\n",
    "def test():\n",
    "    print(\"Hello, i'm from test\")\n",
    "# function should be definied "
   ]
  },
  {
   "cell_type": "code",
   "execution_count": 6,
   "id": "1f1858ac",
   "metadata": {},
   "outputs": [
    {
     "name": "stdout",
     "output_type": "stream",
     "text": [
      "Hello, i'm from test\n"
     ]
    }
   ],
   "source": [
    "def test():\n",
    "    print(\"Hello, i'm from test\")\n",
    "    \n",
    "test()"
   ]
  },
  {
   "cell_type": "markdown",
   "id": "ce68d92d",
   "metadata": {},
   "source": [
    "### Tasks"
   ]
  },
  {
   "cell_type": "code",
   "execution_count": 7,
   "id": "62ca3863",
   "metadata": {},
   "outputs": [
    {
     "name": "stdout",
     "output_type": "stream",
     "text": [
      "Hai, i'm from function\n"
     ]
    }
   ],
   "source": [
    "# defining the function\n",
    "def greeting():\n",
    "    print(\"Hai, i'm from function\")\n",
    "    \n",
    "# calling the function\n",
    "greeting()"
   ]
  },
  {
   "cell_type": "code",
   "execution_count": 8,
   "id": "8c347602",
   "metadata": {},
   "outputs": [
    {
     "name": "stdout",
     "output_type": "stream",
     "text": [
      "Hai, Neha... Good Morning\n"
     ]
    }
   ],
   "source": [
    "# defining the function\n",
    "def greeting():\n",
    "    print(\"Hai, Neha... Good Morning\")\n",
    "    \n",
    "# calling the function\n",
    "greeting()"
   ]
  },
  {
   "cell_type": "code",
   "execution_count": 9,
   "id": "655f4e2b",
   "metadata": {},
   "outputs": [
    {
     "name": "stdout",
     "output_type": "stream",
     "text": [
      "Hai, Kushi... Good Morning\n"
     ]
    }
   ],
   "source": [
    "# defining the function\n",
    "def greeting():\n",
    "    print(\"Hai, Kushi... Good Morning\")\n",
    "    \n",
    "# calling the function\n",
    "greeting()"
   ]
  },
  {
   "cell_type": "markdown",
   "id": "26e30cba",
   "metadata": {},
   "source": [
    "#### functions with arguments"
   ]
  },
  {
   "cell_type": "code",
   "execution_count": 10,
   "id": "12c96bf1",
   "metadata": {},
   "outputs": [
    {
     "name": "stdout",
     "output_type": "stream",
     "text": [
      "Hai Neha Good morning\n"
     ]
    }
   ],
   "source": [
    "def greeting(name):\n",
    "    print(\"Hai\", name, \"Good morning\")\n",
    "    \n",
    "greeting(\"Neha\")"
   ]
  },
  {
   "cell_type": "code",
   "execution_count": 11,
   "id": "1e67504b",
   "metadata": {},
   "outputs": [
    {
     "name": "stdout",
     "output_type": "stream",
     "text": [
      "Hai Vishnu Good morning\n"
     ]
    }
   ],
   "source": [
    "greeting(\"Vishnu\")"
   ]
  },
  {
   "cell_type": "code",
   "execution_count": 12,
   "id": "6dad8bf3",
   "metadata": {},
   "outputs": [
    {
     "name": "stdout",
     "output_type": "stream",
     "text": [
      "Hai Neha Good morning\n"
     ]
    }
   ],
   "source": [
    "def greeting(name='Neha'):\n",
    "    print(\"Hai\", name, \"Good morning\")\n",
    "    \n",
    "greeting()"
   ]
  },
  {
   "cell_type": "code",
   "execution_count": 13,
   "id": "23e2e021",
   "metadata": {},
   "outputs": [
    {
     "name": "stdout",
     "output_type": "stream",
     "text": [
      "Hai Vishnu Good morning\n"
     ]
    }
   ],
   "source": [
    "greeting('Vishnu')"
   ]
  },
  {
   "cell_type": "code",
   "execution_count": 14,
   "id": "a098be46",
   "metadata": {},
   "outputs": [
    {
     "name": "stdout",
     "output_type": "stream",
     "text": [
      "Hai Vishnu Good morning\n",
      "Hai Neha Good morning\n"
     ]
    }
   ],
   "source": [
    "greeting('Vishnu')\n",
    "greeting()"
   ]
  },
  {
   "cell_type": "code",
   "execution_count": 15,
   "id": "7a8db6c2",
   "metadata": {},
   "outputs": [
    {
     "name": "stdout",
     "output_type": "stream",
     "text": [
      "the sum is 30\n"
     ]
    }
   ],
   "source": [
    "# add with 2 values\n",
    "\n",
    "def add(x, y):\n",
    "    z=x+y\n",
    "    print(\"the sum is\", z)\n",
    "    \n",
    "add(10, 20)"
   ]
  },
  {
   "cell_type": "code",
   "execution_count": 16,
   "id": "17499f88",
   "metadata": {},
   "outputs": [
    {
     "name": "stdout",
     "output_type": "stream",
     "text": [
      "the sum is 50\n"
     ]
    }
   ],
   "source": [
    "add(30, 20)"
   ]
  },
  {
   "cell_type": "code",
   "execution_count": 17,
   "id": "1badb913",
   "metadata": {},
   "outputs": [
    {
     "name": "stdout",
     "output_type": "stream",
     "text": [
      "The subtracted value is 20\n"
     ]
    }
   ],
   "source": [
    "def sub(x, y):\n",
    "    z=x-y\n",
    "    print(\"The subtracted value is\", z)\n",
    "    \n",
    "sub(30, 10)"
   ]
  },
  {
   "cell_type": "code",
   "execution_count": 19,
   "id": "c95b2b91",
   "metadata": {},
   "outputs": [
    {
     "name": "stdout",
     "output_type": "stream",
     "text": [
      "The sum is 30\n",
      "The sum is 60\n"
     ]
    }
   ],
   "source": [
    "# direct assignment\n",
    "def add(x, y=20):\n",
    "    z=x+y\n",
    "    print('The sum is', z)\n",
    "    \n",
    "add(10)\n",
    "add(10, 50)"
   ]
  },
  {
   "cell_type": "markdown",
   "id": "5be3a368",
   "metadata": {},
   "source": [
    "### print outside function"
   ]
  },
  {
   "cell_type": "code",
   "execution_count": 21,
   "id": "880cebb3",
   "metadata": {},
   "outputs": [
    {
     "name": "stdout",
     "output_type": "stream",
     "text": [
      "The sum is 30\n"
     ]
    },
    {
     "ename": "NameError",
     "evalue": "name 'z' is not defined",
     "output_type": "error",
     "traceback": [
      "\u001b[1;31m---------------------------------------------------------------------------\u001b[0m",
      "\u001b[1;31mNameError\u001b[0m                                 Traceback (most recent call last)",
      "Cell \u001b[1;32mIn[21], line 8\u001b[0m\n\u001b[0;32m      5\u001b[0m     \u001b[38;5;28mprint\u001b[39m(\u001b[38;5;124m'\u001b[39m\u001b[38;5;124mThe sum is\u001b[39m\u001b[38;5;124m'\u001b[39m, z)\n\u001b[0;32m      7\u001b[0m add(\u001b[38;5;241m10\u001b[39m, \u001b[38;5;241m20\u001b[39m)\n\u001b[1;32m----> 8\u001b[0m \u001b[38;5;28mprint\u001b[39m(\u001b[38;5;124m\"\u001b[39m\u001b[38;5;124mThe added value is\u001b[39m\u001b[38;5;124m\"\u001b[39m, z)\n",
      "\u001b[1;31mNameError\u001b[0m: name 'z' is not defined"
     ]
    }
   ],
   "source": [
    "def add(x, y):\n",
    "    z=x+y\n",
    "    print('The sum is', z)\n",
    "    \n",
    "add(10, 20)\n",
    "print(\"The added value is\", z)"
   ]
  },
  {
   "cell_type": "code",
   "execution_count": 23,
   "id": "cb10c9e5",
   "metadata": {},
   "outputs": [
    {
     "name": "stdout",
     "output_type": "stream",
     "text": [
      "The added value is 30\n"
     ]
    }
   ],
   "source": [
    "def add(x, y):\n",
    "    z=x+y\n",
    "    return z\n",
    "    \n",
    "result = add(10, 20)\n",
    "print(\"The added value is\", result)"
   ]
  },
  {
   "cell_type": "code",
   "execution_count": 24,
   "id": "47c6fef6",
   "metadata": {},
   "outputs": [
    {
     "data": {
      "text/plain": [
       "30"
      ]
     },
     "execution_count": 24,
     "metadata": {},
     "output_type": "execute_result"
    }
   ],
   "source": [
    "def add(x, y):\n",
    "    z=x+y\n",
    "    return z\n",
    "\n",
    "add(10,20)"
   ]
  },
  {
   "cell_type": "code",
   "execution_count": 25,
   "id": "de8274f9",
   "metadata": {},
   "outputs": [
    {
     "name": "stdout",
     "output_type": "stream",
     "text": [
      "hai\n",
      "happy learning\n"
     ]
    }
   ],
   "source": [
    "def greeting():\n",
    "    print('hai')\n",
    "    print('happy learning')\n",
    "    \n",
    "greeting()"
   ]
  },
  {
   "cell_type": "code",
   "execution_count": 26,
   "id": "2813024c",
   "metadata": {},
   "outputs": [
    {
     "name": "stdout",
     "output_type": "stream",
     "text": [
      "hai\n"
     ]
    }
   ],
   "source": [
    "def greeting():\n",
    "    print('hai')\n",
    "    return\n",
    "    print('happy learning')\n",
    "    \n",
    "greeting()"
   ]
  },
  {
   "cell_type": "code",
   "execution_count": 27,
   "id": "43c7edb9",
   "metadata": {},
   "outputs": [
    {
     "data": {
      "text/plain": [
       "15"
      ]
     },
     "execution_count": 27,
     "metadata": {},
     "output_type": "execute_result"
    }
   ],
   "source": [
    "def fun(x):\n",
    "    return x+5\n",
    "fun(10)"
   ]
  },
  {
   "cell_type": "code",
   "execution_count": 30,
   "id": "7b10dcac",
   "metadata": {},
   "outputs": [
    {
     "name": "stdout",
     "output_type": "stream",
     "text": [
      "30\n",
      "None\n"
     ]
    }
   ],
   "source": [
    "# return [expression_list]\n",
    "\n",
    "def addition(a,b):\n",
    "    print(a+b)\n",
    "\n",
    "print(addition(10,20))"
   ]
  },
  {
   "cell_type": "code",
   "execution_count": 32,
   "id": "b3e84930",
   "metadata": {},
   "outputs": [
    {
     "name": "stdout",
     "output_type": "stream",
     "text": [
      "Hello\n",
      "None\n"
     ]
    }
   ],
   "source": [
    "def greeting(x):\n",
    "    print(x)\n",
    "print(greeting(\"Hello\"))"
   ]
  },
  {
   "cell_type": "code",
   "execution_count": 33,
   "id": "6d86505b",
   "metadata": {},
   "outputs": [
    {
     "name": "stdout",
     "output_type": "stream",
     "text": [
      "Hello\n"
     ]
    }
   ],
   "source": [
    "def greeting(x):\n",
    "    print(x)\n",
    "greeting(\"Hello\")"
   ]
  },
  {
   "cell_type": "code",
   "execution_count": 34,
   "id": "af914da2",
   "metadata": {},
   "outputs": [
    {
     "data": {
      "text/plain": [
       "(5, 1)"
      ]
     },
     "execution_count": 34,
     "metadata": {},
     "output_type": "execute_result"
    }
   ],
   "source": [
    "def add_sub(x, y):\n",
    "    z = x + y\n",
    "    z1 = x - y\n",
    "    return z, z1\n",
    "\n",
    "add_sub(3, 2)"
   ]
  },
  {
   "cell_type": "code",
   "execution_count": 36,
   "id": "a162c026",
   "metadata": {},
   "outputs": [
    {
     "name": "stdout",
     "output_type": "stream",
     "text": [
      "The added value is 5\n",
      "The Subtracted value is 1\n"
     ]
    }
   ],
   "source": [
    "def add_sub(x, y):\n",
    "    z = x + y\n",
    "    z1 = x - y\n",
    "    return z, z1\n",
    "\n",
    "add_val, sub_val = add_sub(3, 2)\n",
    "print(\"The added value is\", add_val)\n",
    "print(\"The Subtracted value is\", sub_val)"
   ]
  },
  {
   "cell_type": "markdown",
   "id": "b04970eb",
   "metadata": {},
   "source": [
    "### scope of variables"
   ]
  },
  {
   "cell_type": "code",
   "execution_count": 37,
   "id": "b32aa08f",
   "metadata": {},
   "outputs": [
    {
     "name": "stdout",
     "output_type": "stream",
     "text": [
      "Inside function: I'm a global variable\n"
     ]
    }
   ],
   "source": [
    "# global variable\n",
    "\n",
    "glo_variable = \"I'm a global variable\"\n",
    "def glo():\n",
    "    print(\"Inside function:\", glo_variable)\n",
    "    \n",
    "glo()"
   ]
  },
  {
   "cell_type": "code",
   "execution_count": 39,
   "id": "7313fe83",
   "metadata": {},
   "outputs": [
    {
     "name": "stdout",
     "output_type": "stream",
     "text": [
      "I'm a local variable\n"
     ]
    }
   ],
   "source": [
    "# local variable\n",
    "\n",
    "def loc():\n",
    "    loc_variable = \"I'm a local variable\"\n",
    "    print(loc_variable)\n",
    "    \n",
    "loc()"
   ]
  },
  {
   "cell_type": "code",
   "execution_count": 40,
   "id": "a4ed7641",
   "metadata": {},
   "outputs": [
    {
     "name": "stdout",
     "output_type": "stream",
     "text": [
      "I'm a local variable\n"
     ]
    },
    {
     "ename": "NameError",
     "evalue": "name 'loc_variable' is not defined",
     "output_type": "error",
     "traceback": [
      "\u001b[1;31m---------------------------------------------------------------------------\u001b[0m",
      "\u001b[1;31mNameError\u001b[0m                                 Traceback (most recent call last)",
      "Cell \u001b[1;32mIn[40], line 6\u001b[0m\n\u001b[0;32m      3\u001b[0m     \u001b[38;5;28mprint\u001b[39m(loc_variable)\n\u001b[0;32m      5\u001b[0m loc()\n\u001b[1;32m----> 6\u001b[0m \u001b[38;5;28mprint\u001b[39m(loc_variable)\n",
      "\u001b[1;31mNameError\u001b[0m: name 'loc_variable' is not defined"
     ]
    }
   ],
   "source": [
    "def loc():\n",
    "    loc_variable = \"I'm a local variable\"\n",
    "    print(loc_variable)\n",
    "    \n",
    "loc()\n",
    "print(loc_variable)"
   ]
  },
  {
   "cell_type": "code",
   "execution_count": 41,
   "id": "766b25c0",
   "metadata": {},
   "outputs": [
    {
     "name": "stdout",
     "output_type": "stream",
     "text": [
      "I'm a local variable\n",
      "Global Variable\n"
     ]
    },
    {
     "ename": "NameError",
     "evalue": "name 'loc_variable' is not defined",
     "output_type": "error",
     "traceback": [
      "\u001b[1;31m---------------------------------------------------------------------------\u001b[0m",
      "\u001b[1;31mNameError\u001b[0m                                 Traceback (most recent call last)",
      "Cell \u001b[1;32mIn[41], line 8\u001b[0m\n\u001b[0;32m      6\u001b[0m loc()\n\u001b[0;32m      7\u001b[0m \u001b[38;5;28mprint\u001b[39m(glo_variable)\n\u001b[1;32m----> 8\u001b[0m \u001b[38;5;28mprint\u001b[39m(loc_variable)\n",
      "\u001b[1;31mNameError\u001b[0m: name 'loc_variable' is not defined"
     ]
    }
   ],
   "source": [
    "glo_variable = 'Global Variable'\n",
    "def loc():\n",
    "    loc_variable = \"I'm a local variable\"\n",
    "    print(loc_variable)\n",
    "    \n",
    "loc()\n",
    "print(glo_variable)\n",
    "print(loc_variable)"
   ]
  },
  {
   "cell_type": "code",
   "execution_count": 42,
   "id": "273e4731",
   "metadata": {},
   "outputs": [
    {
     "name": "stdout",
     "output_type": "stream",
     "text": [
      "inside function python series\n",
      "outside call happy learning\n"
     ]
    }
   ],
   "source": [
    "# accessing within function\n",
    "var = 'happy learning'\n",
    "def greet():\n",
    "    var = 'python series'\n",
    "    print('inside function', var)\n",
    "greet()\n",
    "print('outside call', var)"
   ]
  },
  {
   "cell_type": "code",
   "execution_count": 43,
   "id": "80d76af9",
   "metadata": {},
   "outputs": [
    {
     "name": "stdout",
     "output_type": "stream",
     "text": [
      "inside function happy learning\n",
      "outside call happy learning\n"
     ]
    }
   ],
   "source": [
    "var = 'happy learning'\n",
    "def greet():\n",
    "    # var = 'python series'\n",
    "    print('inside function', var)\n",
    "greet()\n",
    "print('outside call', var)"
   ]
  },
  {
   "cell_type": "code",
   "execution_count": 45,
   "id": "5debd141",
   "metadata": {},
   "outputs": [
    {
     "name": "stdout",
     "output_type": "stream",
     "text": [
      "inside function bye bye\n",
      "outside call bye bye\n"
     ]
    }
   ],
   "source": [
    "# if need to change global variable with in function\n",
    "var = 'happy learning'\n",
    "def greet():\n",
    "    global var\n",
    "    var = 'bye bye'\n",
    "    print('inside function', var)\n",
    "    \n",
    "greet()\n",
    "print('outside call', var)"
   ]
  },
  {
   "cell_type": "code",
   "execution_count": 46,
   "id": "3e845475",
   "metadata": {},
   "outputs": [
    {
     "name": "stdout",
     "output_type": "stream",
     "text": [
      "inside function python series\n",
      "python series\n",
      "outside call python series\n"
     ]
    }
   ],
   "source": [
    "# global and local variable having same name\n",
    "var = 'happy learning'\n",
    "def greet():\n",
    "    global var\n",
    "    var = 'python series'\n",
    "    print('inside function', var)\n",
    "    print(globals()['var'])\n",
    "    \n",
    "greet()\n",
    "print('outside call', var)"
   ]
  },
  {
   "cell_type": "code",
   "execution_count": 48,
   "id": "eb463c39",
   "metadata": {},
   "outputs": [
    {
     "name": "stdout",
     "output_type": "stream",
     "text": [
      "inside function python series\n",
      "Changed\n",
      "outside call Changed\n"
     ]
    }
   ],
   "source": [
    "var = 'happy learning'\n",
    "def greet():\n",
    "    global var\n",
    "    var = 'python series'\n",
    "    print('inside function', var)\n",
    "    globals()['var'] = 'Changed'\n",
    "    print(globals()['var'])\n",
    "    \n",
    "greet()\n",
    "print('outside call', var)"
   ]
  },
  {
   "cell_type": "markdown",
   "id": "c138ea69",
   "metadata": {},
   "source": [
    "### Types of arguments"
   ]
  },
  {
   "cell_type": "markdown",
   "id": "9bd90595",
   "metadata": {},
   "source": [
    "- position\n",
    "- keyword\n",
    "- default\n",
    "- variable length"
   ]
  },
  {
   "cell_type": "code",
   "execution_count": 1,
   "id": "e35f4e23",
   "metadata": {},
   "outputs": [
    {
     "name": "stdout",
     "output_type": "stream",
     "text": [
      "sum 15\n"
     ]
    }
   ],
   "source": [
    "def add(x, y):\n",
    "    z=x+y\n",
    "    print(\"sum\", z)\n",
    "    \n",
    "add(5, 10)"
   ]
  },
  {
   "cell_type": "code",
   "execution_count": 2,
   "id": "7efd5169",
   "metadata": {},
   "outputs": [
    {
     "name": "stdout",
     "output_type": "stream",
     "text": [
      "name is John\n",
      "age is 23\n"
     ]
    }
   ],
   "source": [
    "def person(name, age):\n",
    "    print(\"name is\", name)\n",
    "    print(\"age is\", age)\n",
    "    \n",
    "person('John', 23)"
   ]
  },
  {
   "cell_type": "code",
   "execution_count": 3,
   "id": "7c0e6e9d",
   "metadata": {},
   "outputs": [
    {
     "name": "stdout",
     "output_type": "stream",
     "text": [
      "name is 23\n",
      "age is John\n"
     ]
    }
   ],
   "source": [
    "def person(name, age):\n",
    "    print(\"name is\", name)\n",
    "    print(\"age is\", age)\n",
    "    \n",
    "person(23, 'John')"
   ]
  },
  {
   "cell_type": "code",
   "execution_count": 4,
   "id": "e2836b89",
   "metadata": {},
   "outputs": [
    {
     "name": "stdout",
     "output_type": "stream",
     "text": [
      "name is 23\n"
     ]
    },
    {
     "ename": "TypeError",
     "evalue": "can only concatenate str (not \"int\") to str",
     "output_type": "error",
     "traceback": [
      "\u001b[1;31m---------------------------------------------------------------------------\u001b[0m",
      "\u001b[1;31mTypeError\u001b[0m                                 Traceback (most recent call last)",
      "Cell \u001b[1;32mIn[4], line 5\u001b[0m\n\u001b[0;32m      2\u001b[0m     \u001b[38;5;28mprint\u001b[39m(\u001b[38;5;124m\"\u001b[39m\u001b[38;5;124mname is\u001b[39m\u001b[38;5;124m\"\u001b[39m, name)\n\u001b[0;32m      3\u001b[0m     \u001b[38;5;28mprint\u001b[39m(\u001b[38;5;124m\"\u001b[39m\u001b[38;5;124mage is\u001b[39m\u001b[38;5;124m\"\u001b[39m, age\u001b[38;5;241m+\u001b[39m\u001b[38;5;241m2\u001b[39m)\n\u001b[1;32m----> 5\u001b[0m person(\u001b[38;5;241m23\u001b[39m, \u001b[38;5;124m'\u001b[39m\u001b[38;5;124mJohn\u001b[39m\u001b[38;5;124m'\u001b[39m)\n",
      "Cell \u001b[1;32mIn[4], line 3\u001b[0m, in \u001b[0;36mperson\u001b[1;34m(name, age)\u001b[0m\n\u001b[0;32m      1\u001b[0m \u001b[38;5;28;01mdef\u001b[39;00m \u001b[38;5;21mperson\u001b[39m(name, age):\n\u001b[0;32m      2\u001b[0m     \u001b[38;5;28mprint\u001b[39m(\u001b[38;5;124m\"\u001b[39m\u001b[38;5;124mname is\u001b[39m\u001b[38;5;124m\"\u001b[39m, name)\n\u001b[1;32m----> 3\u001b[0m     \u001b[38;5;28mprint\u001b[39m(\u001b[38;5;124m\"\u001b[39m\u001b[38;5;124mage is\u001b[39m\u001b[38;5;124m\"\u001b[39m, age\u001b[38;5;241m+\u001b[39m\u001b[38;5;241m2\u001b[39m)\n",
      "\u001b[1;31mTypeError\u001b[0m: can only concatenate str (not \"int\") to str"
     ]
    }
   ],
   "source": [
    "def person(name, age):\n",
    "    print(\"name is\", name)\n",
    "    print(\"age is\", age+2)\n",
    "    \n",
    "person(23, 'John')"
   ]
  },
  {
   "cell_type": "code",
   "execution_count": 5,
   "id": "3db1d440",
   "metadata": {},
   "outputs": [
    {
     "name": "stdout",
     "output_type": "stream",
     "text": [
      "name is John\n",
      "age is 25\n"
     ]
    }
   ],
   "source": [
    "def person(name, age):\n",
    "    print(\"name is\", name)\n",
    "    print(\"age is\", age+2)\n",
    "    \n",
    "person(age=23, name='John')"
   ]
  },
  {
   "cell_type": "markdown",
   "id": "69c834f1",
   "metadata": {},
   "source": [
    "### Default Arguments"
   ]
  },
  {
   "cell_type": "code",
   "execution_count": 6,
   "id": "0e6f362b",
   "metadata": {},
   "outputs": [
    {
     "ename": "TypeError",
     "evalue": "person() missing 1 required positional argument: 'age'",
     "output_type": "error",
     "traceback": [
      "\u001b[1;31m---------------------------------------------------------------------------\u001b[0m",
      "\u001b[1;31mTypeError\u001b[0m                                 Traceback (most recent call last)",
      "Cell \u001b[1;32mIn[6], line 5\u001b[0m\n\u001b[0;32m      2\u001b[0m     \u001b[38;5;28mprint\u001b[39m(\u001b[38;5;124m\"\u001b[39m\u001b[38;5;124mname is\u001b[39m\u001b[38;5;124m\"\u001b[39m, name)\n\u001b[0;32m      3\u001b[0m     \u001b[38;5;28mprint\u001b[39m(\u001b[38;5;124m\"\u001b[39m\u001b[38;5;124mage is\u001b[39m\u001b[38;5;124m\"\u001b[39m, age\u001b[38;5;241m+\u001b[39m\u001b[38;5;241m2\u001b[39m)\n\u001b[1;32m----> 5\u001b[0m person(\u001b[38;5;124m'\u001b[39m\u001b[38;5;124mJohn\u001b[39m\u001b[38;5;124m'\u001b[39m)\n",
      "\u001b[1;31mTypeError\u001b[0m: person() missing 1 required positional argument: 'age'"
     ]
    }
   ],
   "source": [
    "def person(name, age):\n",
    "    print(\"name is\", name)\n",
    "    print(\"age is\", age+2)\n",
    "    \n",
    "person('John')"
   ]
  },
  {
   "cell_type": "code",
   "execution_count": 8,
   "id": "083b68f5",
   "metadata": {},
   "outputs": [
    {
     "name": "stdout",
     "output_type": "stream",
     "text": [
      "name is John\n",
      "age is 18\n"
     ]
    }
   ],
   "source": [
    "def person(name, age=18):\n",
    "    print(\"name is\", name)\n",
    "    print(\"age is\", age)\n",
    "    \n",
    "person('John')"
   ]
  },
  {
   "cell_type": "code",
   "execution_count": 9,
   "id": "01a4f310",
   "metadata": {},
   "outputs": [
    {
     "name": "stdout",
     "output_type": "stream",
     "text": [
      "name is John\n",
      "age is 23\n"
     ]
    }
   ],
   "source": [
    "def person(name, age=23):\n",
    "    print(\"name is\", name)\n",
    "    print(\"age is\", age)\n",
    "    \n",
    "person('John')"
   ]
  },
  {
   "cell_type": "code",
   "execution_count": 10,
   "id": "098f1c79",
   "metadata": {},
   "outputs": [
    {
     "name": "stdout",
     "output_type": "stream",
     "text": [
      "name is John\n",
      "age is 25\n"
     ]
    }
   ],
   "source": [
    "def person(name, age=23):\n",
    "    print(\"name is\", name)\n",
    "    print(\"age is\", age+2)\n",
    "    \n",
    "person('John')"
   ]
  },
  {
   "cell_type": "code",
   "execution_count": 12,
   "id": "627da957",
   "metadata": {},
   "outputs": [
    {
     "ename": "SyntaxError",
     "evalue": "non-default argument follows default argument (256818170.py, line 1)",
     "output_type": "error",
     "traceback": [
      "\u001b[1;36m  Cell \u001b[1;32mIn[12], line 1\u001b[1;36m\u001b[0m\n\u001b[1;33m    def person(name='John', age):\u001b[0m\n\u001b[1;37m                            ^\u001b[0m\n\u001b[1;31mSyntaxError\u001b[0m\u001b[1;31m:\u001b[0m non-default argument follows default argument\n"
     ]
    }
   ],
   "source": [
    "def person(name='John', age):\n",
    "    print(\"name is\", name)\n",
    "    print(\"age is\", age+2)\n",
    "    \n",
    "person(23)"
   ]
  },
  {
   "cell_type": "code",
   "execution_count": 13,
   "id": "86f85cf8",
   "metadata": {},
   "outputs": [
    {
     "name": "stdout",
     "output_type": "stream",
     "text": [
      "name is John\n",
      "age is 25\n"
     ]
    }
   ],
   "source": [
    "def person(age, name='John'):\n",
    "    print(\"name is\", name)\n",
    "    print(\"age is\", age+2)\n",
    "    \n",
    "person(23)"
   ]
  },
  {
   "cell_type": "code",
   "execution_count": 15,
   "id": "39e1413c",
   "metadata": {},
   "outputs": [
    {
     "name": "stdout",
     "output_type": "stream",
     "text": [
      "name is John\n"
     ]
    }
   ],
   "source": [
    "def person(name='John'):\n",
    "    print(\"name is\", name)\n",
    "    \n",
    "person()"
   ]
  },
  {
   "cell_type": "markdown",
   "id": "793767ae",
   "metadata": {},
   "source": [
    "### variable length"
   ]
  },
  {
   "cell_type": "code",
   "execution_count": 16,
   "id": "16a3dc88",
   "metadata": {},
   "outputs": [
    {
     "ename": "TypeError",
     "evalue": "unsupported operand type(s) for +: 'int' and 'tuple'",
     "output_type": "error",
     "traceback": [
      "\u001b[1;31m---------------------------------------------------------------------------\u001b[0m",
      "\u001b[1;31mTypeError\u001b[0m                                 Traceback (most recent call last)",
      "Cell \u001b[1;32mIn[16], line 5\u001b[0m\n\u001b[0;32m      2\u001b[0m     z\u001b[38;5;241m=\u001b[39mx\u001b[38;5;241m+\u001b[39my\n\u001b[0;32m      3\u001b[0m     \u001b[38;5;28mprint\u001b[39m(\u001b[38;5;124m\"\u001b[39m\u001b[38;5;124msum is\u001b[39m\u001b[38;5;124m\"\u001b[39m, z)\n\u001b[1;32m----> 5\u001b[0m add(\u001b[38;5;241m10\u001b[39m, \u001b[38;5;241m20\u001b[39m, \u001b[38;5;241m30\u001b[39m, \u001b[38;5;241m40\u001b[39m)\n",
      "Cell \u001b[1;32mIn[16], line 2\u001b[0m, in \u001b[0;36madd\u001b[1;34m(x, *y)\u001b[0m\n\u001b[0;32m      1\u001b[0m \u001b[38;5;28;01mdef\u001b[39;00m \u001b[38;5;21madd\u001b[39m(x, \u001b[38;5;241m*\u001b[39my):\n\u001b[1;32m----> 2\u001b[0m     z\u001b[38;5;241m=\u001b[39mx\u001b[38;5;241m+\u001b[39my\n\u001b[0;32m      3\u001b[0m     \u001b[38;5;28mprint\u001b[39m(\u001b[38;5;124m\"\u001b[39m\u001b[38;5;124msum is\u001b[39m\u001b[38;5;124m\"\u001b[39m, z)\n",
      "\u001b[1;31mTypeError\u001b[0m: unsupported operand type(s) for +: 'int' and 'tuple'"
     ]
    }
   ],
   "source": [
    "def add(x, *y):\n",
    "    z=x+y\n",
    "    print(\"sum is\", z)\n",
    "\n",
    "add(10, 20, 30, 40)"
   ]
  },
  {
   "cell_type": "code",
   "execution_count": 17,
   "id": "f0b01676",
   "metadata": {},
   "outputs": [
    {
     "name": "stdout",
     "output_type": "stream",
     "text": [
      "10\n",
      "(20, 30, 40)\n"
     ]
    },
    {
     "ename": "TypeError",
     "evalue": "unsupported operand type(s) for +: 'int' and 'tuple'",
     "output_type": "error",
     "traceback": [
      "\u001b[1;31m---------------------------------------------------------------------------\u001b[0m",
      "\u001b[1;31mTypeError\u001b[0m                                 Traceback (most recent call last)",
      "Cell \u001b[1;32mIn[17], line 7\u001b[0m\n\u001b[0;32m      4\u001b[0m     z\u001b[38;5;241m=\u001b[39mx\u001b[38;5;241m+\u001b[39my\n\u001b[0;32m      5\u001b[0m     \u001b[38;5;28mprint\u001b[39m(\u001b[38;5;124m\"\u001b[39m\u001b[38;5;124msum is\u001b[39m\u001b[38;5;124m\"\u001b[39m, z)\n\u001b[1;32m----> 7\u001b[0m add(\u001b[38;5;241m10\u001b[39m, \u001b[38;5;241m20\u001b[39m, \u001b[38;5;241m30\u001b[39m, \u001b[38;5;241m40\u001b[39m)\n",
      "Cell \u001b[1;32mIn[17], line 4\u001b[0m, in \u001b[0;36madd\u001b[1;34m(x, *y)\u001b[0m\n\u001b[0;32m      2\u001b[0m \u001b[38;5;28mprint\u001b[39m(x)\n\u001b[0;32m      3\u001b[0m \u001b[38;5;28mprint\u001b[39m(y)\n\u001b[1;32m----> 4\u001b[0m z\u001b[38;5;241m=\u001b[39mx\u001b[38;5;241m+\u001b[39my\n\u001b[0;32m      5\u001b[0m \u001b[38;5;28mprint\u001b[39m(\u001b[38;5;124m\"\u001b[39m\u001b[38;5;124msum is\u001b[39m\u001b[38;5;124m\"\u001b[39m, z)\n",
      "\u001b[1;31mTypeError\u001b[0m: unsupported operand type(s) for +: 'int' and 'tuple'"
     ]
    }
   ],
   "source": [
    "def add(x, *y):\n",
    "    print(x)\n",
    "    print(y)\n",
    "    z=x+y\n",
    "    print(\"sum is\", z)\n",
    "\n",
    "add(10, 20, 30, 40)"
   ]
  },
  {
   "cell_type": "code",
   "execution_count": 18,
   "id": "66c409fa",
   "metadata": {},
   "outputs": [
    {
     "name": "stdout",
     "output_type": "stream",
     "text": [
      "sum is 100\n"
     ]
    }
   ],
   "source": [
    "def add(x, *y):\n",
    "    z=x\n",
    "    for i in y:\n",
    "        z=z+i\n",
    "    print(\"sum is\", z)\n",
    "add(10, 20, 30, 40)"
   ]
  },
  {
   "cell_type": "code",
   "execution_count": 19,
   "id": "140cb9de",
   "metadata": {},
   "outputs": [
    {
     "name": "stdout",
     "output_type": "stream",
     "text": [
      "sum is 100\n"
     ]
    }
   ],
   "source": [
    "def add(*y):\n",
    "    z=0\n",
    "    for i in y:\n",
    "        z=z+i\n",
    "    print(\"sum is\", z)\n",
    "add(10, 20, 30, 40)"
   ]
  },
  {
   "cell_type": "code",
   "execution_count": null,
   "id": "6028da0f",
   "metadata": {},
   "outputs": [],
   "source": []
  }
 ],
 "metadata": {
  "kernelspec": {
   "display_name": "Python 3 (ipykernel)",
   "language": "python",
   "name": "python3"
  },
  "language_info": {
   "codemirror_mode": {
    "name": "ipython",
    "version": 3
   },
   "file_extension": ".py",
   "mimetype": "text/x-python",
   "name": "python",
   "nbconvert_exporter": "python",
   "pygments_lexer": "ipython3",
   "version": "3.11.5"
  }
 },
 "nbformat": 4,
 "nbformat_minor": 5
}
