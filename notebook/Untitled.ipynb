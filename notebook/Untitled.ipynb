{
 "cells": [
  {
   "cell_type": "markdown",
   "id": "71c340f6",
   "metadata": {},
   "source": [
    "### Types of inheritance\n",
    "- Single inheritance\n",
    "- Multi Level inheritance\n",
    "- Multiple inheritance\n",
    "- Hierarchical inheritance\n",
    "- Hybrid inheritance"
   ]
  },
  {
   "cell_type": "markdown",
   "id": "27cb48e2",
   "metadata": {},
   "source": [
    "### Single inheritance"
   ]
  },
  {
   "cell_type": "code",
   "execution_count": 3,
   "id": "ae2e0e1d",
   "metadata": {},
   "outputs": [
    {
     "name": "stdout",
     "output_type": "stream",
     "text": [
      "Hello I'm from parent class\n",
      "Hello I'm from child class\n"
     ]
    }
   ],
   "source": [
    "class Parent:\n",
    "    def function1(self):\n",
    "        print(\"Hello I'm from parent class\")\n",
    "        \n",
    "class Child(Parent):\n",
    "    def function2(self):\n",
    "        print(\"Hello I'm from child class\")\n",
    "        \n",
    "obj = Child()\n",
    "obj.function1()\n",
    "obj.function2()"
   ]
  },
  {
   "cell_type": "code",
   "execution_count": 4,
   "id": "bcc5230d",
   "metadata": {},
   "outputs": [
    {
     "name": "stdout",
     "output_type": "stream",
     "text": [
      "employee name John\n",
      "employee age 23\n",
      "employee gender Male\n",
      "employee city chennai\n"
     ]
    }
   ],
   "source": [
    "class Person:\n",
    "    def detail(self):\n",
    "        name = 'John'\n",
    "        age = 23\n",
    "        gender = 'Male' \n",
    "        print('employee name', name)\n",
    "        print('employee age', age)\n",
    "        print('employee gender', gender)\n",
    "\n",
    "        \n",
    "class Update(Person):\n",
    "    def update_detail(self):\n",
    "        city = 'chennai'\n",
    "        print('employee city', city)\n",
    "        \n",
    "obj = Update()\n",
    "obj.detail()\n",
    "obj.update_detail()"
   ]
  },
  {
   "cell_type": "markdown",
   "id": "754e8032",
   "metadata": {},
   "source": [
    "### multilevel inheritance"
   ]
  },
  {
   "cell_type": "code",
   "execution_count": 1,
   "id": "2308243d",
   "metadata": {},
   "outputs": [
    {
     "name": "stdout",
     "output_type": "stream",
     "text": [
      "Hi, I'm from class1\n",
      "Hi, I'm from class2\n",
      "Hi, I'm from class3\n"
     ]
    }
   ],
   "source": [
    "class One:\n",
    "    def function1(self):\n",
    "        print(\"Hi, I'm from class1\")\n",
    "        \n",
    "class Two(One):\n",
    "    def function2(self):\n",
    "        print(\"Hi, I'm from class2\")\n",
    "        \n",
    "class Three(Two):\n",
    "    def function3(self):\n",
    "        print(\"Hi, I'm from class3\")\n",
    "        \n",
    "test = Three()\n",
    "test.function1()\n",
    "test.function2()\n",
    "test.function3()"
   ]
  },
  {
   "cell_type": "code",
   "execution_count": 4,
   "id": "e31aa375",
   "metadata": {},
   "outputs": [
    {
     "name": "stdout",
     "output_type": "stream",
     "text": [
      "Name: Sakthi     Age: 25      Gender: Male\n",
      "Company Name: Google     location: USA\n",
      "Salary: 24LPA      Designation: Data Scientist\n"
     ]
    }
   ],
   "source": [
    "class Person:\n",
    "    def personal(self, name, age, gender):\n",
    "        print('Name:', name, \"   \", 'Age:', age, \"    \", 'Gender:', gender)\n",
    "        \n",
    "class Company(Person):\n",
    "    def company_detail(self, name, location):\n",
    "        print('Company Name:', name, \"   \", 'location:', location)\n",
    "              \n",
    "class Other(Company):\n",
    "    def other_detail(self, salary, designation):\n",
    "              print('Salary:', salary, \"    \", \"Designation:\", designation)\n",
    "              \n",
    "\n",
    "obj = Other()\n",
    "obj.personal('Sakthi', 25, 'Male')\n",
    "obj.company_detail('Google', 'USA')\n",
    "obj.other_detail('24LPA', 'Data Scientist')"
   ]
  },
  {
   "cell_type": "markdown",
   "id": "3f8d42f3",
   "metadata": {},
   "source": [
    "### multiple inheritance"
   ]
  },
  {
   "cell_type": "code",
   "execution_count": 6,
   "id": "3395d433",
   "metadata": {},
   "outputs": [
    {
     "name": "stdout",
     "output_type": "stream",
     "text": [
      "Printing the employee detail\n",
      "\n",
      "Priting the personal details\n",
      "Name: Sakthi     Age: 25      Gender: Male\n",
      "\n",
      "Priting the professional details\n",
      "Company Name: Google     location: USA\n",
      "\n",
      "Priting the other details\n",
      "Salary: 24LPA      Designation: Data Scientist\n",
      "\n"
     ]
    }
   ],
   "source": [
    "class Person:\n",
    "    def personal(self, name, age, gender):\n",
    "        print(\"Priting the personal details\", end = '\\n')\n",
    "        print('Name:', name, \"   \", 'Age:', age, \"    \", 'Gender:', gender, end = \"\\n\\n\")\n",
    "        \n",
    "class Company():\n",
    "    def company_detail(self, name, location):\n",
    "        print(\"Priting the professional details\", end = '\\n')\n",
    "        print('Company Name:', name, \"   \", 'location:', location, end = \"\\n\\n\")\n",
    "              \n",
    "class Other():\n",
    "    def other_detail(self, salary, designation):\n",
    "        print(\"Priting the other details\", end = '\\n')\n",
    "        print('Salary:', salary, \"    \", \"Designation:\", designation, end = \"\\n\\n\")\n",
    "              \n",
    "\n",
    "class all_detail(Person, Company, Other):\n",
    "    print(\"Printing the employee detail\", end=\"\\n\\n\")\n",
    "    \n",
    "    \n",
    "obj = all_detail()\n",
    "obj.personal('Sakthi', 25, 'Male')\n",
    "obj.company_detail('Google', 'USA')\n",
    "obj.other_detail('24LPA', 'Data Scientist')"
   ]
  },
  {
   "cell_type": "code",
   "execution_count": null,
   "id": "a8979b45",
   "metadata": {},
   "outputs": [],
   "source": []
  }
 ],
 "metadata": {
  "kernelspec": {
   "display_name": "Python 3 (ipykernel)",
   "language": "python",
   "name": "python3"
  },
  "language_info": {
   "codemirror_mode": {
    "name": "ipython",
    "version": 3
   },
   "file_extension": ".py",
   "mimetype": "text/x-python",
   "name": "python",
   "nbconvert_exporter": "python",
   "pygments_lexer": "ipython3",
   "version": "3.11.5"
  }
 },
 "nbformat": 4,
 "nbformat_minor": 5
}
