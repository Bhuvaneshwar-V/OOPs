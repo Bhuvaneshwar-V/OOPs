{
 "cells": [
  {
   "cell_type": "markdown",
   "id": "269e547d",
   "metadata": {},
   "source": [
    "### polymorphism"
   ]
  },
  {
   "cell_type": "markdown",
   "id": "2f75f117",
   "metadata": {},
   "source": [
    "### polymorphism in '+' operators"
   ]
  },
  {
   "cell_type": "code",
   "execution_count": 1,
   "id": "286e72df",
   "metadata": {},
   "outputs": [
    {
     "name": "stdout",
     "output_type": "stream",
     "text": [
      "The added value: 30\n"
     ]
    }
   ],
   "source": [
    "num1 = 10\n",
    "num2 = 20\n",
    "print(\"The added value:\", num1+num2)"
   ]
  },
  {
   "cell_type": "code",
   "execution_count": 2,
   "id": "7bb5e233",
   "metadata": {},
   "outputs": [
    {
     "name": "stdout",
     "output_type": "stream",
     "text": [
      "The added string: Happy learning\n"
     ]
    }
   ],
   "source": [
    "str1 = 'Happy '\n",
    "str2 = 'learning'\n",
    "print(\"The added string:\", str1+str2)"
   ]
  },
  {
   "cell_type": "markdown",
   "id": "d71e9692",
   "metadata": {},
   "source": [
    "### polymorphism in '*' operators"
   ]
  },
  {
   "cell_type": "code",
   "execution_count": 3,
   "id": "12f68184",
   "metadata": {},
   "outputs": [
    {
     "name": "stdout",
     "output_type": "stream",
     "text": [
      "The multiplied value: 200\n"
     ]
    }
   ],
   "source": [
    "num1 = 10\n",
    "num2 = 20\n",
    "print(\"The multiplied value:\", num1*num2)"
   ]
  },
  {
   "cell_type": "code",
   "execution_count": 5,
   "id": "9f1e9bda",
   "metadata": {},
   "outputs": [
    {
     "name": "stdout",
     "output_type": "stream",
     "text": [
      "The multiplied string: Happy learningHappy learning\n"
     ]
    }
   ],
   "source": [
    "str1 = 'Happy learning'\n",
    "num1 = 2\n",
    "print(\"The multiplied string:\", str1*num1)"
   ]
  },
  {
   "cell_type": "markdown",
   "id": "17b0fb3e",
   "metadata": {},
   "source": [
    "### polymorphism in functions"
   ]
  },
  {
   "cell_type": "code",
   "execution_count": 6,
   "id": "2dc960e4",
   "metadata": {},
   "outputs": [
    {
     "name": "stdout",
     "output_type": "stream",
     "text": [
      "14\n"
     ]
    }
   ],
   "source": [
    "print(len(\"Happy Learning\"))"
   ]
  },
  {
   "cell_type": "code",
   "execution_count": 7,
   "id": "26317a42",
   "metadata": {},
   "outputs": [
    {
     "name": "stdout",
     "output_type": "stream",
     "text": [
      "4\n"
     ]
    }
   ],
   "source": [
    "print(len(['Python', 'Gurukula', 'Happy', 'Learning']))"
   ]
  },
  {
   "cell_type": "code",
   "execution_count": 8,
   "id": "80e84014",
   "metadata": {},
   "outputs": [
    {
     "name": "stdout",
     "output_type": "stream",
     "text": [
      "2\n"
     ]
    }
   ],
   "source": [
    "print(len({'Name': 'Gurukula', 'Course': 'Python advanced series'}))"
   ]
  },
  {
   "cell_type": "markdown",
   "id": "8f317540",
   "metadata": {},
   "source": [
    "### polymorphism in classes"
   ]
  },
  {
   "cell_type": "code",
   "execution_count": 9,
   "id": "b8bf5581",
   "metadata": {},
   "outputs": [
    {
     "name": "stdout",
     "output_type": "stream",
     "text": [
      "name: sakthi\n",
      "age: 20\n",
      "name: shiva\n",
      "age: 25\n"
     ]
    }
   ],
   "source": [
    "class employee1:\n",
    "    def info(self):\n",
    "        name = 'sakthi'\n",
    "        age = 20\n",
    "        print(\"name:\", name)\n",
    "        print(\"age:\", age)\n",
    "        \n",
    "class employee2:\n",
    "    def info(self):\n",
    "        name = 'shiva'\n",
    "        age = 25\n",
    "        print(\"name:\", name)\n",
    "        print(\"age:\", age)\n",
    "        \n",
    "\n",
    "obj_emp = employee1()\n",
    "obj_adm = employee2()\n",
    "obj_emp.info()\n",
    "obj_adm.info()"
   ]
  },
  {
   "cell_type": "code",
   "execution_count": null,
   "id": "d36e22de",
   "metadata": {},
   "outputs": [],
   "source": []
  }
 ],
 "metadata": {
  "kernelspec": {
   "display_name": "Python 3 (ipykernel)",
   "language": "python",
   "name": "python3"
  },
  "language_info": {
   "codemirror_mode": {
    "name": "ipython",
    "version": 3
   },
   "file_extension": ".py",
   "mimetype": "text/x-python",
   "name": "python",
   "nbconvert_exporter": "python",
   "pygments_lexer": "ipython3",
   "version": "3.11.5"
  }
 },
 "nbformat": 4,
 "nbformat_minor": 5
}
